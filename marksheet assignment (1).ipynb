{
 "cells": [
  {
   "cell_type": "code",
   "execution_count": 8,
   "metadata": {},
   "outputs": [
    {
     "name": "stdout",
     "output_type": "stream",
     "text": [
      "Math    = 50\n",
      "English = 70\n",
      "Science = 60\n",
      "physics = 80\n",
      "urdu    = 90\n",
      "Obtain Marks= 350\n",
      "persentage 70.0\n",
      "Grade = B\n"
     ]
    }
   ],
   "source": [
    "Subject = (\"Math    =\", \"English =\", \"Science =\", \"physics =\", \"urdu    =\") \n",
    "Marks= (50, 70, 60, 80,90)\n",
    "print(Subject[0],Marks[0])\n",
    "print(Subject[1],Marks[1])\n",
    "print(Subject[2],Marks[2])\n",
    "print(Subject[3],Marks[3])\n",
    "print(Subject[4],Marks[4])\n",
    "\n",
    "Obtain_Marks= Marks[0]+Marks[1]+Marks[2]+Marks[3]+Marks[4]\n",
    "print(\"Obtain Marks=\",Obtain_Marks)\n",
    "total_Marks = 500\n",
    "\n",
    "per= ((Obtain_Marks/total_Marks)*100)\n",
    "print(\"persentage\",per,)\n",
    "\n",
    "if(per < 60):\n",
    "    print(\"Grade = fail\")\n",
    "\n",
    "elif((per>69) and (per<89)):\n",
    "    print(\"Grade = B\")\n",
    "elif((per>90) and (per<100)):\n",
    "    print(\"Grade = c\")\n",
    "\n",
    "\n"
   ]
  },
  {
   "cell_type": "code",
   "execution_count": null,
   "metadata": {},
   "outputs": [],
   "source": []
  }
 ],
 "metadata": {
  "kernelspec": {
   "display_name": "Python 3",
   "language": "python",
   "name": "python3"
  },
  "language_info": {
   "codemirror_mode": {
    "name": "ipython",
    "version": 3
   },
   "file_extension": ".py",
   "mimetype": "text/x-python",
   "name": "python",
   "nbconvert_exporter": "python",
   "pygments_lexer": "ipython3",
   "version": "3.7.3"
  }
 },
 "nbformat": 4,
 "nbformat_minor": 2
}
