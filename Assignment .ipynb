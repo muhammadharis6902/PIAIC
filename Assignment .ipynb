{
 "cells": [
  {
   "cell_type": "code",
   "execution_count": 1,
   "metadata": {},
   "outputs": [
    {
     "name": "stdout",
     "output_type": "stream",
     "text": [
      "Enter the radius of a circle: 3\n",
      "Area of Circle with radius 3.0  is 28.278\n"
     ]
    }
   ],
   "source": [
    "#                       1. Calculate Area of a Circle\n",
    "\n",
    "\n",
    "radius= float(input(\"Enter the radius of a circle: \"))\n",
    "area = ((3.142)*(radius*radius))\n",
    "print(\"Area of Circle with radius\", radius , \" is\",area )\n"
   ]
  },
  {
   "cell_type": "code",
   "execution_count": 7,
   "metadata": {},
   "outputs": [
    {
     "name": "stdout",
     "output_type": "stream",
     "text": [
      "Enter number: -90\n",
      "Negative Number Entered\n"
     ]
    }
   ],
   "source": [
    "#            2. Check Number either positive, negative or zero\n",
    "\n",
    "number= int(input(\"Enter number: \"))\n",
    "\n",
    "if number == 0:\n",
    "    print(\"zero Entered\")\n",
    "if number < 0:\n",
    "    print(\"Negative Number Entered\")\n",
    "if number > 0:\n",
    "    print(\"Positive Number Entered\")\n"
   ]
  },
  {
   "cell_type": "code",
   "execution_count": 12,
   "metadata": {},
   "outputs": [
    {
     "name": "stdout",
     "output_type": "stream",
     "text": [
      "Enter Numerator: 8\n",
      "Enter Denominator: 4\n",
      "Number 8  is Completely divisible by  4\n"
     ]
    }
   ],
   "source": [
    "#          3. Divisibility Check of two numbers\n",
    "\n",
    "Numerator= int(input(\"Enter Numerator: \"))\n",
    "Denominator= int(input(\"Enter Denominator: \"))\n",
    "\n",
    "remainder= Numerator % Denominator\n",
    "\n",
    "if remainder==0:\n",
    "    print(\"Number\",Numerator ,\" is Completely divisible by \",Denominator)\n",
    "if remainder!=0:\n",
    "    print(\"Number\",Numerator ,\" is not Completely divisible by \",Denominator)\n",
    "    "
   ]
  },
  {
   "cell_type": "code",
   "execution_count": 1,
   "metadata": {},
   "outputs": [
    {
     "name": "stdout",
     "output_type": "stream",
     "text": [
      "4\n"
     ]
    }
   ],
   "source": [
    "#            4. Days Calculator\n",
    "\n",
    "from datetime import datetime\n",
    "date_format = \"%d/%m/%Y\"\n",
    "a = datetime.strptime('12/12/2018', date_format)\n",
    "b = datetime.strptime('16/12/2018', date_format)\n",
    "delta = b - a\n",
    "print(delta.days)"
   ]
  },
  {
   "cell_type": "code",
   "execution_count": 15,
   "metadata": {},
   "outputs": [
    {
     "name": "stdout",
     "output_type": "stream",
     "text": [
      "Enter Radius of Sphere: 5\n",
      "Volume of the Sphere with Radius 5.0  is  523.6666666666666\n"
     ]
    }
   ],
   "source": [
    "#            5. Calculate Volume of a sphere\n",
    "\n",
    "Radius= float (input(\"Enter Radius of Sphere: \"))\n",
    "Volume= ((4/3)*(3.142)* (Radius*Radius*Radius))\n",
    "print(\"Volume of the Sphere with Radius\", Radius,\" is \",Volume)\n"
   ]
  },
  {
   "cell_type": "code",
   "execution_count": 2,
   "metadata": {},
   "outputs": [
    {
     "name": "stdout",
     "output_type": "stream",
     "text": [
      "Enter String: haris\n",
      "How many copies of String you need: 3\n",
      "haris\n",
      "haris\n",
      "haris\n"
     ]
    }
   ],
   "source": [
    "#      6. Copy string n times\n",
    "\n",
    "string= str (input(\"Enter String: \"))\n",
    "copies= int(input(\"How many copies of String you need: \"))\n",
    "for a in range (copies):\n",
    "    print(string)\n",
    "\n",
    "\n"
   ]
  },
  {
   "cell_type": "code",
   "execution_count": 3,
   "metadata": {},
   "outputs": [
    {
     "name": "stdout",
     "output_type": "stream",
     "text": [
      "Enter number: 6\n",
      "6 is Even\n"
     ]
    }
   ],
   "source": [
    "#           7. Check if number is Even or Odd \n",
    "\n",
    "number= int(input(\"Enter number: \"))\n",
    "value=number % 2\n",
    "if value== 0:\n",
    "    print(number,\"is Even\")\n",
    "if value!= 0:\n",
    "    print(number,\"is Odd\")\n",
    "    \n"
   ]
  },
  {
   "cell_type": "code",
   "execution_count": 4,
   "metadata": {},
   "outputs": [
    {
     "name": "stdout",
     "output_type": "stream",
     "text": [
      "Enter character: t\n",
      "Letter t is not Vowel\n"
     ]
    }
   ],
   "source": [
    "#      8. Vowel Tester \n",
    "character= input(\"Enter character: \")\n",
    "if character==\"a\"or (character == \"e\") or (character== \"i\") or (character== \"o\") or (character==\"u\"):\n",
    "    print(\"Letter\",character,\"is Vowel\")\n",
    "else:\n",
    "    print(\"Letter\",character,\"is not Vowel\")\n"
   ]
  },
  {
   "cell_type": "markdown",
   "metadata": {},
   "source": []
  },
  {
   "cell_type": "code",
   "execution_count": 10,
   "metadata": {},
   "outputs": [
    {
     "name": "stdout",
     "output_type": "stream",
     "text": [
      "Enter magnitude of Triangle base: 4\n",
      "Enter Magnitude of Triangle Height:  8\n",
      "Area of a Triangle with Height 8.0 and Base 4.0 is 16.0\n"
     ]
    }
   ],
   "source": [
    "#     9. Triangle area \n",
    "base= float(input(\"Enter magnitude of Triangle base: \"))\n",
    "Height= float(input(\"Enter Magnitude of Triangle Height:  \"))\n",
    "area=(base*Height)/2\n",
    "print(\"Area of a Triangle with Height\",Height,\"and Base\",base, \"is\",area)\n"
   ]
  },
  {
   "cell_type": "code",
   "execution_count": 5,
   "metadata": {},
   "outputs": [
    {
     "name": "stdout",
     "output_type": "stream",
     "text": [
      "Please enter principal amount:  10000\n",
      "Please Enter Rate of interest in %:0.1\n",
      "Enter number of years for investment:  5\n",
      "After 5 years your principal amount 10000 over an interest rate of 0.1 % will be 16105.1\n"
     ]
    }
   ],
   "source": [
    "#        10. Calculate Interest \n",
    "\n",
    "I= float(input(\"Please enter principal amount:  \"))\n",
    "R= float(input(\"Please Enter Rate of interest in %:\"))\n",
    "T= float(input(\"Enter number of years for investment:  \"))\n",
    "future_value  = I * ((1 + R)**T)\n",
    "print(\"After\",(round (T,)),\"years your principal amount\",(round (I,)),\"over an interest rate of\",R,\"% will be\",(round (future_value,2)))"
   ]
  },
  {
   "cell_type": "code",
   "execution_count": 6,
   "metadata": {},
   "outputs": [
    {
     "name": "stdout",
     "output_type": "stream",
     "text": [
      "Enter Co-ordinate for x1:2\n",
      "Enter Co-ordinate for x2:4\n",
      "Enter Co-ordinate for y1:4\n",
      "Enter Co-ordinate for y2:4\n",
      "Distance between points ( 2 , 4 ) and ( 4 , 4 ) is 2.0\n"
     ]
    }
   ],
   "source": [
    "#         11. Euclidean distance \n",
    "import math \n",
    "x1=int(input(\"Enter Co-ordinate for x1:\")) \n",
    "x2=int(input(\"Enter Co-ordinate for x2:\")) \n",
    "y1=int(input(\"Enter Co-ordinate for y1:\")) \n",
    "y2=int(input(\"Enter Co-ordinate for y2:\")) \n",
    "x=(x1-x2)**2\n",
    "y=(y1-y2)**2\n",
    "distance=math.sqrt(x+y)\n",
    "print(\"Distance between points (\",x1,\",\",x2,\") and (\",y1,\",\",y2,\") is\",distance) "
   ]
  },
  {
   "cell_type": "code",
   "execution_count": 1,
   "metadata": {},
   "outputs": [
    {
     "name": "stdout",
     "output_type": "stream",
     "text": [
      "Enter Height in Feet:5\n",
      "There are 152.4 Cm in 5 ft \n"
     ]
    }
   ],
   "source": [
    "#                   12. Feet to Centimeter Converter \n",
    "ft=int(input(\"Enter Height in Feet:\"))\n",
    "cm=ft*30.48\n",
    "print(\"There are\",cm,\"Cm in\",ft,\"ft \")\n",
    "    "
   ]
  },
  {
   "cell_type": "code",
   "execution_count": 2,
   "metadata": {},
   "outputs": [
    {
     "name": "stdout",
     "output_type": "stream",
     "text": [
      "Enter Height in Cm:180\n",
      "Enter Weight in Kg:75\n",
      "Your BMI is 23.15\n"
     ]
    }
   ],
   "source": [
    "#          13. BMI Calculator       \n",
    "Height=int(input(\"Enter Height in Cm:\"))\n",
    "Weight=int(input(\"Enter Weight in Kg:\"))\n",
    "\n",
    "BMI=Weight/((Height*0.01)**2)\n",
    "print(\"Your BMI is\",(round (BMI,2)))\n",
    "\n"
   ]
  },
  {
   "cell_type": "code",
   "execution_count": 3,
   "metadata": {},
   "outputs": [
    {
     "name": "stdout",
     "output_type": "stream",
     "text": [
      "Enter value of n: 5\n",
      "Sum of n Positive integers till 5 is 15.0\n"
     ]
    }
   ],
   "source": [
    "#         14. Sum of n Positive Integers \n",
    "n=int(input(\"Enter value of n: \"))\n",
    "INT=((n/2)*(n+1))\n",
    "print(\"Sum of n Positive integers till\",n,\"is\",INT,) "
   ]
  },
  {
   "cell_type": "code",
   "execution_count": 7,
   "metadata": {},
   "outputs": [
    {
     "name": "stdout",
     "output_type": "stream",
     "text": [
      "Enter a number:456\n",
      "The total sum of digits is: 15\n"
     ]
    }
   ],
   "source": [
    "#        15. Digits Sum of a Number \n",
    "n=int(input(\"Enter a number:\"))\n",
    "total=0\n",
    "while(n>0):\n",
    "    digit=n%10\n",
    "    total=total+digit\n",
    "    n=n//10\n",
    "print(\"The total sum of digits is:\",total)\n"
   ]
  },
  {
   "cell_type": "code",
   "execution_count": 15,
   "metadata": {},
   "outputs": [
    {
     "name": "stdout",
     "output_type": "stream",
     "text": [
      "Enter any decimal number: 45\n",
      "101101"
     ]
    }
   ],
   "source": [
    "#         16. Decimal to Binary Converter \n",
    "def decimalToBinary(num):\n",
    "    if num > 1:\n",
    "        decimalToBinary(num // 2)\n",
    "    print(num % 2, end='')\n",
    "\n",
    "number = int(input(\"Enter any decimal number: \"))\n",
    "decimalToBinary(number)"
   ]
  },
  {
   "cell_type": "code",
   "execution_count": 10,
   "metadata": {},
   "outputs": [
    {
     "name": "stdout",
     "output_type": "stream",
     "text": [
      "Enter number in Binary Format: 101\n",
      "101 in Decimal = 5\n"
     ]
    }
   ],
   "source": [
    "#             17. Binary to Decimal Converter            \n",
    "binary = input(\"Enter number in Binary Format: \")\n",
    "decimal = int(binary, 2)\n",
    "print(binary,\"in Decimal =\",decimal)"
   ]
  },
  {
   "cell_type": "code",
   "execution_count": 12,
   "metadata": {},
   "outputs": [
    {
     "name": "stdout",
     "output_type": "stream",
     "text": [
      "Enter text: QuickBrownFoxJumpsovertheDog \n",
      "Total Number of Vowels in this String =  9\n",
      "Total Number of Consonants in this String =  21\n"
     ]
    }
   ],
   "source": [
    "#             18. Vowel and Consonants Counter \n",
    "str1 = input(\"Enter text:\")\n",
    "vowels = 0\n",
    "consonants = 0\n",
    "\n",
    "for i in str1:\n",
    "    if(i == 'a' or i == 'e' or i == 'i' or i == 'o' or i == 'u'\n",
    "       or i == 'A' or i == 'E' or i == 'I' or i == 'O' or i == 'U'):\n",
    "        vowels = vowels + 1\n",
    "    else:\n",
    "        consonants = consonants + 1\n",
    "print(\"Total Number of Vowels in this String = \", vowels)\n",
    "print(\"Total Number of Consonants in this String = \", consonants)\n"
   ]
  },
  {
   "cell_type": "code",
   "execution_count": 13,
   "metadata": {},
   "outputs": [
    {
     "name": "stdout",
     "output_type": "stream",
     "text": [
      "Enter text:aha\n",
      "It is palindrome\n"
     ]
    }
   ],
   "source": [
    "#             19. Palindrome tester \n",
    "\n",
    "my_str = input(\"Enter text:\")\n",
    "my_str = my_str.casefold()\n",
    "rev_str = reversed(my_str)\n",
    "\n",
    "if list(my_str) == list(rev_str):\n",
    "    print(\"It is palindrome\")\n",
    "else:\n",
    "    print(\"It is not palindrome\")"
   ]
  },
  {
   "cell_type": "code",
   "execution_count": 14,
   "metadata": {},
   "outputs": [
    {
     "name": "stdout",
     "output_type": "stream",
     "text": [
      "What is your sentence:Python 3.2\n",
      "Special Characters= 1\n",
      "Alphabets= 6\n",
      "Numbers= 2\n",
      "Spaces= 1\n"
     ]
    }
   ],
   "source": [
    "#              20. Count Alphabets, Numbers and Special Characters \n",
    "\n",
    "import re \n",
    "sentence = input(\"What is your sentence:\")\n",
    "\n",
    "d=l=0\n",
    "for c in sentence:\n",
    "    if c.isdigit():\n",
    "        d=d+1\n",
    "    elif c.isalpha():\n",
    "        l=l+1\n",
    "\n",
    "sentence=sentence.capitalize()\n",
    "countspaces = sentence.count(\" \")\n",
    "a1 = sentence.count(\"!\")\n",
    "a2 = sentence.count(\".\")\n",
    "a3 = sentence.count(\">\")\n",
    "a4 = sentence.count(\"<\")\n",
    "a5 = sentence.count(\":\")\n",
    "a6= sentence.count(\";\")\n",
    "a7 = sentence.count(\"'\")\n",
    "a8 = sentence.count(\"@\")\n",
    "a9 = sentence.count(\"#\")\n",
    "a10 = sentence.count(\"~\")\n",
    "a11= sentence.count(\"{\")\n",
    "a12= sentence.count(\"}\")\n",
    "a13= sentence.count(\"[\")\n",
    "a14 = sentence.count(\"]\")\n",
    "a15 = sentence.count(\"-\")\n",
    "a16 = sentence.count(\"_\")\n",
    "a17 = sentence.count(\"+\")\n",
    "a18 = sentence.count(\"=\")\n",
    "a19 = sentence.count(\"£\")\n",
    "a20 = sentence.count(\"$\")\n",
    "a21= sentence.count(\"%\")\n",
    "a22 = sentence.count(\"^\")\n",
    "a23= sentence.count(\"&\")\n",
    "a24 = sentence.count(\"(\")\n",
    "a25= sentence.count(\")\")\n",
    "a26=sentence.count(\"?\")\n",
    "speci= (a1+a2+a3+a4+a5+a6+a7+a8+a9+a10+a11+a12+a13+a14+a15+a16+a17+a18+a19+a20+a21+a22+a23+a24+a25+a26)\n",
    "print(\"Special Characters=\", speci)\n",
    "print(\"Alphabets=\", l)\n",
    "print(\"Numbers=\", d)\n",
    "print(\"Spaces=\", countspaces)\n"
   ]
  },
  {
   "cell_type": "code",
   "execution_count": 3,
   "metadata": {},
   "outputs": [
    {
     "name": "stdout",
     "output_type": "stream",
     "text": [
      "*\n",
      "**\n",
      "***\n",
      "****\n",
      "*****\n",
      "****\n",
      "***\n",
      "**\n",
      "*\n",
      "\n"
     ]
    }
   ],
   "source": [
    "#              21. Write a Python program to construct the following pattern          \n",
    "d=5\n",
    "for i in range (1,d+1):\n",
    "    for j in range (1,i+1):\n",
    "        print(\"*\",end=\"\")\n",
    "    print(\"\")\n",
    "    \n",
    "for i in range (0,5):\n",
    "    for k in range (4,i,-1):\n",
    "        print(\"*\",end=\"\")\n",
    "    print()"
   ]
  },
  {
   "cell_type": "code",
   "execution_count": 16,
   "metadata": {},
   "outputs": [
    {
     "name": "stdout",
     "output_type": "stream",
     "text": [
      "1 \n",
      "1 2 \n",
      "1 2 3 \n",
      "1 2 3 4 \n",
      "1 2 3 4 5 \n",
      "1 2 3 4 \n",
      "1 2 3 \n",
      "1 2 \n",
      "1 \n"
     ]
    }
   ],
   "source": [
    "#            22. Write a Python program to construct the following pattern \n",
    "for i in range(0, 5):\n",
    "    num = 1\n",
    "    for j in range(0, i+1):\n",
    "        print(num, end=\" \")\n",
    "        num = num + 1\n",
    "    print()\n",
    "h=4\n",
    "for k in range (1,h+1):\n",
    "    for l in range (1,h-k+2):\n",
    "        print(str(l)+\"\",end=\" \")\n",
    "    print()"
   ]
  },
  {
   "cell_type": "code",
   "execution_count": 2,
   "metadata": {},
   "outputs": [
    {
     "name": "stdout",
     "output_type": "stream",
     "text": [
      "1\n",
      "22\n",
      "333\n",
      "4444\n",
      "55555\n",
      "666666\n",
      "7777777\n",
      "88888888\n",
      "999999999\n"
     ]
    }
   ],
   "source": [
    "#     23. Write a Python program to construct the following pattern       \n",
    "d=9\n",
    "for i in range (1,d+1):\n",
    "    for j in range (1,i+1):\n",
    "        print(i,end=\"\")\n",
    "    print(\"\")"
   ]
  },
  {
   "cell_type": "code",
   "execution_count": null,
   "metadata": {},
   "outputs": [],
   "source": []
  }
 ],
 "metadata": {
  "kernelspec": {
   "display_name": "Python 3",
   "language": "python",
   "name": "python3"
  },
  "language_info": {
   "codemirror_mode": {
    "name": "ipython",
    "version": 3
   },
   "file_extension": ".py",
   "mimetype": "text/x-python",
   "name": "python",
   "nbconvert_exporter": "python",
   "pygments_lexer": "ipython3",
   "version": "3.7.3"
  }
 },
 "nbformat": 4,
 "nbformat_minor": 2
}
